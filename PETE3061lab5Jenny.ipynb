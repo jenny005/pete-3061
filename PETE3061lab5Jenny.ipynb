{
 "cells": [
  {
   "cell_type": "code",
   "execution_count": 1,
   "metadata": {},
   "outputs": [],
   "source": [
    "def dydx(x): return -2*x**3+12*x**2-20*x+8.5"
   ]
  },
  {
   "cell_type": "code",
   "execution_count": 2,
   "metadata": {},
   "outputs": [
    {
     "data": {
      "text/plain": [
       "8.5"
      ]
     },
     "execution_count": 2,
     "metadata": {},
     "output_type": "execute_result"
    }
   ],
   "source": [
    "dydx(0)"
   ]
  },
  {
   "cell_type": "code",
   "execution_count": 3,
   "metadata": {},
   "outputs": [],
   "source": [
    "import sympy as sp"
   ]
  },
  {
   "cell_type": "code",
   "execution_count": 4,
   "metadata": {},
   "outputs": [],
   "source": [
    "x = sp.Symbol('x')\n",
    "expr = -2*x**3+12*x**2-20*x+8.5"
   ]
  },
  {
   "cell_type": "code",
   "execution_count": 5,
   "metadata": {},
   "outputs": [
    {
     "data": {
      "text/latex": [
       "$\\displaystyle - 2 x^{3} + 12 x^{2} - 20 x + 8.5$"
      ],
      "text/plain": [
       "-2*x**3 + 12*x**2 - 20*x + 8.5"
      ]
     },
     "execution_count": 5,
     "metadata": {},
     "output_type": "execute_result"
    }
   ],
   "source": [
    "expr"
   ]
  },
  {
   "cell_type": "code",
   "execution_count": 6,
   "metadata": {},
   "outputs": [],
   "source": [
    "yf = sp.Function('y')(x)"
   ]
  },
  {
   "cell_type": "code",
   "execution_count": 7,
   "metadata": {},
   "outputs": [
    {
     "data": {
      "text/latex": [
       "$\\displaystyle y{\\left(x \\right)}$"
      ],
      "text/plain": [
       "y(x)"
      ]
     },
     "execution_count": 7,
     "metadata": {},
     "output_type": "execute_result"
    }
   ],
   "source": [
    "yf"
   ]
  },
  {
   "cell_type": "code",
   "execution_count": 9,
   "metadata": {},
   "outputs": [],
   "source": [
    "dydxf = yf.diff(x)"
   ]
  },
  {
   "cell_type": "code",
   "execution_count": 10,
   "metadata": {},
   "outputs": [],
   "source": [
    "expr1 = sp.Eq(dydxf,expr)"
   ]
  },
  {
   "cell_type": "code",
   "execution_count": 11,
   "metadata": {},
   "outputs": [
    {
     "data": {
      "text/latex": [
       "$\\displaystyle \\frac{d}{d x} y{\\left(x \\right)} = - 2 x^{3} + 12 x^{2} - 20 x + 8.5$"
      ],
      "text/plain": [
       "Eq(Derivative(y(x), x), -2*x**3 + 12*x**2 - 20*x + 8.5)"
      ]
     },
     "execution_count": 11,
     "metadata": {},
     "output_type": "execute_result"
    }
   ],
   "source": [
    "expr1"
   ]
  },
  {
   "cell_type": "code",
   "execution_count": 12,
   "metadata": {},
   "outputs": [],
   "source": [
    "soln = sp.dsolve(expr1,yf)"
   ]
  },
  {
   "cell_type": "code",
   "execution_count": 13,
   "metadata": {},
   "outputs": [
    {
     "data": {
      "text/latex": [
       "$\\displaystyle y{\\left(x \\right)} = C_{1} - \\frac{x^{4}}{2} + 4 x^{3} - 10 x^{2} + \\frac{17 x}{2}$"
      ],
      "text/plain": [
       "Eq(y(x), C1 - x**4/2 + 4*x**3 - 10*x**2 + 17*x/2)"
      ]
     },
     "execution_count": 13,
     "metadata": {},
     "output_type": "execute_result"
    }
   ],
   "source": [
    "soln"
   ]
  },
  {
   "cell_type": "code",
   "execution_count": 14,
   "metadata": {},
   "outputs": [],
   "source": [
    "import numpy as np\n",
    "import matplotlib.pyplot as plt"
   ]
  },
  {
   "cell_type": "code",
   "execution_count": 15,
   "metadata": {},
   "outputs": [
    {
     "data": {
      "text/plain": [
       "array([0.        , 0.08163265, 0.16326531, 0.24489796, 0.32653061,\n",
       "       0.40816327, 0.48979592, 0.57142857, 0.65306122, 0.73469388,\n",
       "       0.81632653, 0.89795918, 0.97959184, 1.06122449, 1.14285714,\n",
       "       1.2244898 , 1.30612245, 1.3877551 , 1.46938776, 1.55102041,\n",
       "       1.63265306, 1.71428571, 1.79591837, 1.87755102, 1.95918367,\n",
       "       2.04081633, 2.12244898, 2.20408163, 2.28571429, 2.36734694,\n",
       "       2.44897959, 2.53061224, 2.6122449 , 2.69387755, 2.7755102 ,\n",
       "       2.85714286, 2.93877551, 3.02040816, 3.10204082, 3.18367347,\n",
       "       3.26530612, 3.34693878, 3.42857143, 3.51020408, 3.59183673,\n",
       "       3.67346939, 3.75510204, 3.83673469, 3.91836735, 4.        ])"
      ]
     },
     "execution_count": 15,
     "metadata": {},
     "output_type": "execute_result"
    }
   ],
   "source": [
    "xx = np.linspace(0,4)\n",
    "xx"
   ]
  },
  {
   "cell_type": "code",
   "execution_count": 18,
   "metadata": {},
   "outputs": [
    {
     "data": {
      "text/plain": [
       "array([0.        , 0.04040404, 0.08080808, 0.12121212, 0.16161616,\n",
       "       0.2020202 , 0.24242424, 0.28282828, 0.32323232, 0.36363636,\n",
       "       0.4040404 , 0.44444444, 0.48484848, 0.52525253, 0.56565657,\n",
       "       0.60606061, 0.64646465, 0.68686869, 0.72727273, 0.76767677,\n",
       "       0.80808081, 0.84848485, 0.88888889, 0.92929293, 0.96969697,\n",
       "       1.01010101, 1.05050505, 1.09090909, 1.13131313, 1.17171717,\n",
       "       1.21212121, 1.25252525, 1.29292929, 1.33333333, 1.37373737,\n",
       "       1.41414141, 1.45454545, 1.49494949, 1.53535354, 1.57575758,\n",
       "       1.61616162, 1.65656566, 1.6969697 , 1.73737374, 1.77777778,\n",
       "       1.81818182, 1.85858586, 1.8989899 , 1.93939394, 1.97979798,\n",
       "       2.02020202, 2.06060606, 2.1010101 , 2.14141414, 2.18181818,\n",
       "       2.22222222, 2.26262626, 2.3030303 , 2.34343434, 2.38383838,\n",
       "       2.42424242, 2.46464646, 2.50505051, 2.54545455, 2.58585859,\n",
       "       2.62626263, 2.66666667, 2.70707071, 2.74747475, 2.78787879,\n",
       "       2.82828283, 2.86868687, 2.90909091, 2.94949495, 2.98989899,\n",
       "       3.03030303, 3.07070707, 3.11111111, 3.15151515, 3.19191919,\n",
       "       3.23232323, 3.27272727, 3.31313131, 3.35353535, 3.39393939,\n",
       "       3.43434343, 3.47474747, 3.51515152, 3.55555556, 3.5959596 ,\n",
       "       3.63636364, 3.67676768, 3.71717172, 3.75757576, 3.7979798 ,\n",
       "       3.83838384, 3.87878788, 3.91919192, 3.95959596, 4.        ])"
      ]
     },
     "execution_count": 18,
     "metadata": {},
     "output_type": "execute_result"
    }
   ],
   "source": [
    "xx = np.linspace(0,4,100)\n",
    "xx"
   ]
  },
  {
   "cell_type": "code",
   "execution_count": 19,
   "metadata": {},
   "outputs": [
    {
     "data": {
      "text/plain": [
       "[<matplotlib.lines.Line2D at 0x2d28ae850b8>]"
      ]
     },
     "execution_count": 19,
     "metadata": {},
     "output_type": "execute_result"
    },
    {
     "data": {
      "image/png": "[encoded data removed]",
      "text/plain": [
       "<Figure size 432x288 with 1 Axes>"
      ]
     },
     "metadata": {
      "needs_background": "light"
     },
     "output_type": "display_data"
    }
   ],
   "source": [
    "plt.plot(xx,dydx(xx))"
   ]
  },
  {
   "cell_type": "code",
   "execution_count": 20,
   "metadata": {},
   "outputs": [],
   "source": [
    "def y(x):return -0.5*x**4+4*x**3-10*x**2+8.5*x+1"
   ]
  },
  {
   "cell_type": "code",
   "execution_count": 21,
   "metadata": {},
   "outputs": [
    {
     "data": {
      "text/plain": [
       "[<matplotlib.lines.Line2D at 0x2d28af33c18>]"
      ]
     },
     "execution_count": 21,
     "metadata": {},
     "output_type": "execute_result"
    },
    {
     "data": {
      "image/png": "[encoded data removed]",
      "text/plain": [
       "<Figure size 432x288 with 1 Axes>"
      ]
     },
     "metadata": {
      "needs_background": "light"
     },
     "output_type": "display_data"
    }
   ],
   "source": [
    "plt.plot(xx,y(xx))"
   ]
  },
  {
   "cell_type": "code",
   "execution_count": 24,
   "metadata": {},
   "outputs": [
    {
     "data": {
      "text/plain": [
       "1.85"
      ]
     },
     "execution_count": 24,
     "metadata": {},
     "output_type": "execute_result"
    }
   ],
   "source": [
    "h = 0.1\n",
    "y0=1\n",
    "y_i1=y0+dydx(0)*h\n",
    "y_i1"
   ]
  },
  {
   "cell_type": "code",
   "execution_count": 25,
   "metadata": {},
   "outputs": [
    {
     "data": {
      "text/plain": [
       "array([0., 0., 0., 0., 0., 0., 0., 0., 0., 0., 0., 0., 0., 0., 0., 0., 0.,\n",
       "       0., 0., 0., 0., 0., 0., 0., 0., 0., 0., 0., 0., 0., 0., 0., 0., 0.,\n",
       "       0., 0., 0., 0., 0., 0., 0., 0., 0., 0., 0., 0., 0., 0., 0., 0., 0.,\n",
       "       0., 0., 0., 0., 0., 0., 0., 0., 0., 0., 0., 0., 0., 0., 0., 0., 0.,\n",
       "       0., 0., 0., 0., 0., 0., 0., 0., 0., 0., 0., 0., 0., 0., 0., 0., 0.,\n",
       "       0., 0., 0., 0., 0., 0., 0., 0., 0., 0., 0., 0., 0., 0., 0.])"
      ]
     },
     "execution_count": 25,
     "metadata": {},
     "output_type": "execute_result"
    }
   ],
   "source": [
    "h = 0.1\n",
    "y0=1\n",
    "ys = np.zeros(len(xx))\n",
    "n=0\n",
    "ys"
   ]
  },
  {
   "cell_type": "code",
   "execution_count": 27,
   "metadata": {},
   "outputs": [],
   "source": [
    "h = 0.1\n",
    "y0=1\n",
    "ys = np.zeros(len(xx))\n",
    "n=0\n",
    "for xs in xx:\n",
    "    if n==0:\n",
    "        ys[n]=1\n",
    "    else:\n",
    "        ys[n]=(ys[n-1]+dydx(xs)*h)\n",
    "    n+=1"
   ]
  },
  {
   "cell_type": "code",
   "execution_count": 28,
   "metadata": {},
   "outputs": [
    {
     "data": {
      "text/plain": [
       "[<matplotlib.lines.Line2D at 0x2d28afd4198>,\n",
       " <matplotlib.lines.Line2D at 0x2d28afd42e8>]"
      ]
     },
     "execution_count": 28,
     "metadata": {},
     "output_type": "execute_result"
    },
    {
     "data": {
      "image/png": "[encoded data removed]",
      "text/plain": [
       "<Figure size 432x288 with 1 Axes>"
      ]
     },
     "metadata": {
      "needs_background": "light"
     },
     "output_type": "display_data"
    }
   ],
   "source": [
    "plt.plot(xx,ys,xx,y(xx))"
   ]
  },
  {
   "cell_type": "code",
   "execution_count": null,
   "metadata": {},
   "outputs": [],
   "source": []
  }
 ],
 "metadata": {
  "kernelspec": {
   "display_name": "Python 3",
   "language": "python",
   "name": "python3"
  },
  "language_info": {
   "codemirror_mode": {
    "name": "ipython",
    "version": 3
   },
   "file_extension": ".py",
   "mimetype": "text/x-python",
   "name": "python",
   "nbconvert_exporter": "python",
   "pygments_lexer": "ipython3",
   "version": "3.7.3"
  }
 },
 "nbformat": 4,
 "nbformat_minor": 2
}
